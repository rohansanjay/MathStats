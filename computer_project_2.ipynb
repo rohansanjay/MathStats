{
 "cells": [
  {
   "cell_type": "markdown",
   "metadata": {},
   "source": [
    "## Rohan Sanjay\n",
    "## MWF 9:00 am MATH 408\n",
    "## Computer Project #2\n",
    "## 10/30/2020"
   ]
  },
  {
   "cell_type": "code",
   "execution_count": 180,
   "metadata": {},
   "outputs": [],
   "source": [
    "import numpy as np\n",
    "import matplotlib.pyplot as plt\n",
    "import scipy.stats as stats\n",
    "from statsmodels.stats import stattools\n",
    "from scipy import integrate\n",
    "import math\n",
    "import statistics"
   ]
  },
  {
   "cell_type": "markdown",
   "metadata": {},
   "source": [
    "### Part I: Generate 100 independent normal random variables with mean zero and variance 1. Call it vector V1 = (x1, . . . , x100). Then generate 100 independent normal random variables with mean zero and variance 1.5. Call it vector V1.5 = (y1, . . . , y100). Now, how can you tell which vector is which if you only look at the components? Here are four possible ways."
   ]
  },
  {
   "cell_type": "code",
   "execution_count": 181,
   "metadata": {},
   "outputs": [],
   "source": [
    "v1 = np.random.normal(0, 1, 100)\n",
    "v1_5 = np.random.normal(0, 1.5, 100)"
   ]
  },
  {
   "cell_type": "markdown",
   "metadata": {},
   "source": [
    "#### Procedure A. If you are handed only a pair of numbers xk and yk without knowing which is which, procedure A is to guess that the number with the smaller absolute value came from vectorV1. Run this procedure on your data and determine how many times you get the correct conclusion. Then compute the theoretical value of the probability that procedure A gives the correct conclusion."
   ]
  },
  {
   "cell_type": "code",
   "execution_count": 182,
   "metadata": {},
   "outputs": [
    {
     "name": "stdout",
     "output_type": "stream",
     "text": [
      "Experimental probability: 0.61\n",
      "Theoretical probability: 0.5640942168489749\n",
      "P( |v1| < |v1.5| ) = P( |v1| < sqrt(1.5) * |v1.5| / sqrt(1.5) ) = P( cauchy(0, 1) < sqrt(1.5) ) because the divison between two standard normal random variables is cauchy(0, 1)\n"
     ]
    }
   ],
   "source": [
    "count = 0\n",
    "\n",
    "for x in range(100):\n",
    "    if abs(v1[x]) < abs(v1_5[x]):\n",
    "        count += 1\n",
    "\n",
    "print('Experimental probability:', count / 100)\n",
    "\n",
    "t, s = 0, 1\n",
    "cauchy = lambda x: 1 / (math.pi * (1 + x**2))\n",
    "print('Theoretical probability:', integrate.quad(cauchy, -np.sqrt(1.5), np.sqrt(1.5))[0])\n",
    "print('P( |v1| < |v1.5| ) = P( |v1| < sqrt(1.5) * |v1.5| / sqrt(1.5) ) = P( cauchy(0, 1) < sqrt(1.5) )',\n",
    "       'because the divison between two standard normal random variables is cauchy(0, 1)')"
   ]
  },
  {
   "cell_type": "code",
   "execution_count": 183,
   "metadata": {},
   "outputs": [
    {
     "name": "stdout",
     "output_type": "stream",
     "text": [
      "Here, we get the right conclusion because v1 is smaller 61/100 times\n"
     ]
    }
   ],
   "source": [
    "print('Here, we get the right conclusion because v1 is smaller 61/100 times')"
   ]
  },
  {
   "cell_type": "markdown",
   "metadata": {},
   "source": [
    "#### Procedure B. Suppose that instead of a pair of numbers (xk, yk), you have the entire collec-tion of numbers, (x1, . . . , x100) and (y1, . . . , y100) but without knowing which collection is which.\n",
    "\n",
    "#### Procedure B says that the collection with the larger sum of squares is V1.5. Apply procedure B to the data you generated. Does this procedure give the correct answer?"
   ]
  },
  {
   "cell_type": "code",
   "execution_count": 185,
   "metadata": {},
   "outputs": [
    {
     "name": "stdout",
     "output_type": "stream",
     "text": [
      "SS v1: 109.05190104765356\n",
      "SS v_1.5: 242.1750704899023\n",
      "This method gives the right answer since sum of sqaures v_1.5 > v1\n"
     ]
    }
   ],
   "source": [
    "print('SS v1:', v1 @ v1.T)\n",
    "print('SS v_1.5:', v1_5 @ v1_5.T)\n",
    "print('This method gives the right answer since sum of sqaures v_1.5 > v1')"
   ]
  },
  {
   "cell_type": "code",
   "execution_count": 186,
   "metadata": {},
   "outputs": [
    {
     "name": "stdout",
     "output_type": "stream",
     "text": [
      "Theoretic probability: 0.9780695578699148\n",
      "The sum of v1_i and v1.5_i is chi-squared with 100 df and chi-sqaured df 100 / chi-sqaured df 100 if F distribution dfn 100, dfd 100\n"
     ]
    }
   ],
   "source": [
    "print('Theoretic probability:', stats.f.cdf(1.5, dfn=100, dfd=100))\n",
    "print('The sum of v1_i and v1.5_i is chi-squared with 100 df and chi-sqaured df 100 / chi-sqaured df 100 if F distribution dfn 100, dfd 100')"
   ]
  },
  {
   "cell_type": "markdown",
   "metadata": {},
   "source": [
    "#### Procedure C. This is a more realistic version of Procedure B, when you pretend that you do not know that the mean in each sample is zero and say that the collection with the larger sample standard deviation is V1.5. Apply procedure C to the data you generated. Does this procedure give the correct answer?"
   ]
  },
  {
   "cell_type": "code",
   "execution_count": 187,
   "metadata": {},
   "outputs": [
    {
     "name": "stdout",
     "output_type": "stream",
     "text": [
      "sample std v1 1.0486616723606663\n",
      "sample std v1.5 1.5640183160931196\n",
      "This method gives the right answer since sample std v_1.5 > v1\n"
     ]
    }
   ],
   "source": [
    "print('sample std v1', statistics.stdev(v1))\n",
    "print('sample std v1.5', statistics.stdev(v1_5))\n",
    "print('This method gives the right answer since sample std v_1.5 > v1')"
   ]
  },
  {
   "cell_type": "code",
   "execution_count": 188,
   "metadata": {},
   "outputs": [
    {
     "name": "stdout",
     "output_type": "stream",
     "text": [
      "Theoretic probability: 0.9780695578699148 by the F test\n"
     ]
    }
   ],
   "source": [
    "print('Theoretic probability:', stats.f.cdf(1.5, dfn=100, dfd=100), 'by the F test')"
   ]
  },
  {
   "cell_type": "markdown",
   "metadata": {},
   "source": [
    "#### Procedure D. \n",
    "This is an even more realistic procedure, when you pretend that you do not\n",
    "know the distributions of the sample. Use the result of problem 6, part 4 in Homework number 12\n",
    "to reduce the setting to a standard shift model, and then use sign test and any other non-parametric\n",
    "test to answer the question."
   ]
  },
  {
   "cell_type": "code",
   "execution_count": 189,
   "metadata": {},
   "outputs": [
    {
     "name": "stdout",
     "output_type": "stream",
     "text": [
      "Experimental probability sign test: 0.47\n",
      "Experimental probability non-parametric test sample std v1_ln 1.3989330829591777\n",
      "Experimental probability non-parametric test sample std v1.5_ln 0.9244008657443137\n"
     ]
    }
   ],
   "source": [
    "v1_ln = np.log( np.abs(v1) )\n",
    "v1_5_ln = np.log( np.abs(v1_5) )\n",
    "\n",
    "count = 0\n",
    "\n",
    "for x in range(100):\n",
    "    if abs(v1_ln[x]) < abs(v1_5_ln[x]):\n",
    "        count += 1\n",
    "\n",
    "print('Experimental probability sign test:', count / 100)\n",
    "\n",
    "print('Experimental probability non-parametric test sample std v1_ln', statistics.stdev(v1_ln))\n",
    "print('Experimental probability non-parametric test sample std v1.5_ln', statistics.stdev(v1_5_ln))"
   ]
  },
  {
   "cell_type": "code",
   "execution_count": 190,
   "metadata": {},
   "outputs": [
    {
     "name": "stdout",
     "output_type": "stream",
     "text": [
      "Both tests here gave us the wrong answer. In the sign test, we got 47/100, which while close, could lead us to believe that the second vector has the smaller variance. In the non-parametric test, we got that the first vector has a larger sample std. This could have happened because taking the log of rvs close to zero in the first vector could have made many of the small values below 1 very large.\n"
     ]
    }
   ],
   "source": [
    "print('Both tests here gave us the wrong answer. In the sign test, we got 47/100, which while close, could lead us to believe that the second vector has the smaller variance.',\n",
    "      'In the non-parametric test, we got that the first vector has a larger sample std. This could have happened because taking the log of rvs close to zero in the first vector', \n",
    "      'could have made many of the small values below 1 very large.')"
   ]
  },
  {
   "cell_type": "markdown",
   "metadata": {},
   "source": [
    "Generate five more collections of 100 independent normal random variables with mean zero and\n",
    "variance 1. Then generate five more collections of 100 independent normal random variables with\n",
    "mean zero and variance 1.5. Apply procedures B, C, and D to each of the five pairs. How many\n",
    "times did you get wrong answer?\n",
    "Compute the theoretical value of the probabilities that procedures B, C, and D give correct\n",
    "answer."
   ]
  },
  {
   "cell_type": "code",
   "execution_count": 191,
   "metadata": {},
   "outputs": [
    {
     "name": "stdout",
     "output_type": "stream",
     "text": [
      "-------------------------------------------------\n",
      "Pair 1\n",
      "Procedure A Experimental probability: 0.67\n",
      "\n",
      "Procedue B SS v1: 81.2874588589245\n",
      "Procedue B SS v_1.5: 214.86672565782084\n",
      "\n",
      "Procedue C sample std v1 0.9059490080244722\n",
      "Procedue C sample std v1.5 1.4660419582315676\n",
      "\n",
      "Procedure D\n",
      "Experimental probability sign test: 0.47\n",
      "Experimental probability non-parametric test sample std v1_ln 1.2526585770107541\n",
      "Experimental probability non-parametric test sample std v1.5_ln 1.1494365996320706\n",
      "-------------------------------------------------\n",
      "Pair 2\n",
      "Procedure A Experimental probability: 0.62\n",
      "\n",
      "Procedue B SS v1: 94.31268403326894\n",
      "Procedue B SS v_1.5: 206.2815799548444\n",
      "\n",
      "Procedue C sample std v1 0.9690915568616177\n",
      "Procedue C sample std v1.5 1.4395708812660017\n",
      "\n",
      "Procedure D\n",
      "Experimental probability sign test: 0.51\n",
      "Experimental probability non-parametric test sample std v1_ln 1.0669323285599552\n",
      "Experimental probability non-parametric test sample std v1.5_ln 1.1556566627531581\n",
      "-------------------------------------------------\n",
      "Pair 3\n",
      "Procedure A Experimental probability: 0.61\n",
      "\n",
      "Procedue B SS v1: 116.6856224506015\n",
      "Procedue B SS v_1.5: 212.92936262517227\n",
      "\n",
      "Procedue C sample std v1 1.0743835356980542\n",
      "Procedue C sample std v1.5 1.4655385571203565\n",
      "\n",
      "Procedure D\n",
      "Experimental probability sign test: 0.47\n",
      "Experimental probability non-parametric test sample std v1_ln 0.9428140152137873\n",
      "Experimental probability non-parametric test sample std v1.5_ln 1.2668164144268117\n",
      "-------------------------------------------------\n",
      "Pair 4\n",
      "Procedure A Experimental probability: 0.63\n",
      "\n",
      "Procedue B SS v1: 101.36377076686574\n",
      "Procedue B SS v_1.5: 273.9280262787014\n",
      "\n",
      "Procedue C sample std v1 1.0085819818134856\n",
      "Procedue C sample std v1.5 1.640317793255577\n",
      "\n",
      "Procedure D\n",
      "Experimental probability sign test: 0.49\n",
      "Experimental probability non-parametric test sample std v1_ln 1.1726831385920493\n",
      "Experimental probability non-parametric test sample std v1.5_ln 1.0010692035110893\n",
      "-------------------------------------------------\n",
      "Pair 5\n",
      "Procedure A Experimental probability: 0.65\n",
      "\n",
      "Procedue B SS v1: 83.94409306753595\n",
      "Procedue B SS v_1.5: 215.88362083726918\n",
      "\n",
      "Procedue C sample std v1 0.9207643772123681\n",
      "Procedue C sample std v1.5 1.4704222039413373\n",
      "\n",
      "Procedure D\n",
      "Experimental probability sign test: 0.51\n",
      "Experimental probability non-parametric test sample std v1_ln 1.1542770678411236\n",
      "Experimental probability non-parametric test sample std v1.5_ln 1.107629179200343\n",
      "-------------------------------------------------\n"
     ]
    }
   ],
   "source": [
    "print('-------------------------------------------------')\n",
    "\n",
    "for i in range(5):\n",
    "    print('Pair', i + 1)\n",
    "    v1 = np.random.normal(0, 1, 100)\n",
    "    v1_5 = np.random.normal(0, 1.5, 100)\n",
    "    \n",
    "    count = 0\n",
    "    for x in range(100):\n",
    "        if abs(v1[x]) < abs(v1_5[x]):\n",
    "            count += 1\n",
    "\n",
    "    print('Procedure A Experimental probability:', count / 100)\n",
    "    print()\n",
    "    \n",
    "    print('Procedue B SS v1:', v1 @ v1.T)\n",
    "    print('Procedue B SS v_1.5:', v1_5 @ v1_5.T)\n",
    "    print()\n",
    "    \n",
    "    print('Procedue C sample std v1', statistics.stdev(v1))\n",
    "    print('Procedue C sample std v1.5', statistics.stdev(v1_5))\n",
    "    \n",
    "    print('\\nProcedure D')\n",
    "    v1_ln = np.log( np.abs(v1) )\n",
    "    v1_5_ln = np.log( np.abs(v1_5) )\n",
    "\n",
    "    count = 0\n",
    "\n",
    "    for x in range(100):\n",
    "        if abs(v1_ln[x]) < abs(v1_5_ln[x]):\n",
    "            count += 1\n",
    "\n",
    "    print('Experimental probability sign test:', count / 100)\n",
    "\n",
    "    print('Experimental probability non-parametric test sample std v1_ln', statistics.stdev(v1_ln))\n",
    "    print('Experimental probability non-parametric test sample std v1.5_ln', statistics.stdev(v1_5_ln))    \n",
    "    print('-------------------------------------------------')"
   ]
  },
  {
   "cell_type": "code",
   "execution_count": 192,
   "metadata": {},
   "outputs": [
    {
     "name": "stdout",
     "output_type": "stream",
     "text": [
      "Procedures A-C in all pairs gave us the correct answer every time.\n",
      "The sign test in procedure d was wrong for 3 of the pairs, however very close each time.\n",
      "The non-parametric test in procedure d was wrong for 3 of the pairs as well.\n"
     ]
    }
   ],
   "source": [
    "print('Procedures A-C in all pairs gave us the correct answer every time.')\n",
    "print('The sign test in procedure d was wrong for 3 of the pairs, however very close each time.')\n",
    "print('The non-parametric test in procedure d was wrong for 3 of the pairs as well.')"
   ]
  },
  {
   "cell_type": "markdown",
   "metadata": {},
   "source": [
    "### Part II \n",
    "Now repeat Part I when the vector V1 consists of independent standard Cauchy random\n",
    "variables, and V1.5 consists of independent Cauchy random variables with location parameter equal\n",
    "to zero and the scale parameter equal to √1.5. Compare and contrast the results with what you got in Part I."
   ]
  },
  {
   "cell_type": "code",
   "execution_count": 193,
   "metadata": {},
   "outputs": [],
   "source": [
    "v1 = np.random.standard_cauchy(100)\n",
    "v1_5 = stats.cauchy.rvs(loc=0, scale=np.sqrt(1.5), size=100)"
   ]
  },
  {
   "cell_type": "markdown",
   "metadata": {},
   "source": [
    "#### Procedure A. If you are handed only a pair of numbers xk and yk without knowing which is which, procedure A is to guess that the number with the smaller absolute value came from vectorV1. Run this procedure on your data and determine how many times you get the correct conclusion. Then compute the theoretical value of the probability that procedure A gives the correct conclusion."
   ]
  },
  {
   "cell_type": "code",
   "execution_count": 195,
   "metadata": {},
   "outputs": [
    {
     "name": "stdout",
     "output_type": "stream",
     "text": [
      "Experimental probability: 0.54\n",
      "Theoretical probability: 0.5409886682458542\n",
      "P( |v1| < |v1.5| ) = P( |v1| < sqrt(1.5) * |v1.5 / sqrt(1.5)| ) = P( |cauchy(0, 1)| * |1 / cauchy(0, 1)| < sqrt(1.5) )  = P( -sqrt(1.5) < cauchy(0, 1) * 1 / cauchy(0, 1) < sqrt(1.5) ). The pdf of product and quotient of two inp cauchy is log u^2 / (pi^2(u^2 - 1)), which can be integrated from 0 to sqrt(1.5) and multiplied by 2\n"
     ]
    }
   ],
   "source": [
    "count = 0\n",
    "\n",
    "for x in range(100):\n",
    "    if abs(v1[x]) < abs(v1_5[x]):\n",
    "        count += 1\n",
    "\n",
    "print('Experimental probability:', count / 100)\n",
    "\n",
    "cauchy_product = lambda x: np.log(x**2) / ( math.pi**2 * (x**2 - 1) )\n",
    "print('Theoretical probability:', 2 * integrate.quad(cauchy_product, 0, np.sqrt(1.5))[0])\n",
    "print('P( |v1| < |v1.5| ) = P( |v1| < sqrt(1.5) * |v1.5 / sqrt(1.5)| ) = P( |cauchy(0, 1)| * |1 / cauchy(0, 1)| < sqrt(1.5) )',\n",
    "      ' = P( -sqrt(1.5) < cauchy(0, 1) * 1 / cauchy(0, 1) < sqrt(1.5) ). The pdf of product and quotient of two inp cauchy',\n",
    "      'is log u^2 / (pi^2(u^2 - 1)), which can be integrated from 0 to sqrt(1.5) and multiplied by 2')"
   ]
  },
  {
   "cell_type": "code",
   "execution_count": 196,
   "metadata": {},
   "outputs": [
    {
     "name": "stdout",
     "output_type": "stream",
     "text": [
      "This procedure gave us the correct answer since v1 was smaller than v1.5 54/100 times\n"
     ]
    }
   ],
   "source": [
    "print('This procedure gave us the correct answer since v1 was smaller than v1.5 54/100 times')"
   ]
  },
  {
   "cell_type": "markdown",
   "metadata": {},
   "source": [
    "#### Procedure B. Suppose that instead of a pair of numbers (xk, yk), you have the entire collec-tion of numbers, (x1, . . . , x100) and (y1, . . . , y100) but without knowing which collection is which.\n",
    "\n",
    "#### Procedure B says that the collection with the larger sum of squares is V1.5. Apply procedure B to the data you generated. Does this procedure give the correct answer?"
   ]
  },
  {
   "cell_type": "code",
   "execution_count": 197,
   "metadata": {},
   "outputs": [
    {
     "name": "stdout",
     "output_type": "stream",
     "text": [
      "SS v1: 4162.778574195615\n",
      "SS v_1.5: 2412380.506041548\n"
     ]
    }
   ],
   "source": [
    "print('SS v1:', v1 @ v1.T)\n",
    "print('SS v_1.5:', v1_5 @ v1_5.T)"
   ]
  },
  {
   "cell_type": "code",
   "execution_count": 207,
   "metadata": {},
   "outputs": [
    {
     "name": "stdout",
     "output_type": "stream",
     "text": [
      "This method gives the right answer since sum of sqaures v_1.5 > v1. However, this method can be especially unreliable with cauchy since cauchy rvs can be very large numbers as seen by the much the much larger SS for the second vector in comparison to the first.\n"
     ]
    }
   ],
   "source": [
    "print('This method gives the right answer since sum of sqaures v_1.5 > v1. However, this method can be especially unreliable with cauchy since cauchy rvs can',\n",
    "      'be very large numbers as seen by the much the much larger SS for the second vector in comparison to the first.')"
   ]
  },
  {
   "cell_type": "markdown",
   "metadata": {},
   "source": [
    "#### Procedure C. This is a more realistic version of Procedure B, when you pretend that you do not know that the mean in each sample is zero and say that the collection with the larger sample standard deviation is V1.5. Apply procedure C to the data you generated. Does this procedure give the correct answer?"
   ]
  },
  {
   "cell_type": "code",
   "execution_count": 198,
   "metadata": {},
   "outputs": [
    {
     "name": "stdout",
     "output_type": "stream",
     "text": [
      "sample std v1 6.461385439328347\n",
      "sample std v1.5 155.36219021761374\n"
     ]
    }
   ],
   "source": [
    "print('sample std v1', statistics.stdev(v1))\n",
    "print('sample std v1.5', statistics.stdev(v1_5))"
   ]
  },
  {
   "cell_type": "code",
   "execution_count": 200,
   "metadata": {},
   "outputs": [
    {
     "name": "stdout",
     "output_type": "stream",
     "text": [
      "This method gives the right answer since sample std v_1.5 > v1\n",
      "However, given how much larger the std of the second vector is, it is likely that a few of the cauchy rvs in the 2nd vectors are very large.\n"
     ]
    }
   ],
   "source": [
    "print('This method gives the right answer since sample std v_1.5 > v1')\n",
    "print('However, given how much larger the std of the second vector is, it is likely that a few of the cauchy rvs in the 2nd vectors are very large.')"
   ]
  },
  {
   "cell_type": "markdown",
   "metadata": {},
   "source": [
    "#### Procedure D. \n",
    "This is an even more realistic procedure, when you pretend that you do not\n",
    "know the distributions of the sample. Use the result of problem 6, part 4 in Homework number 12\n",
    "to reduce the setting to a standard shift model, and then use sign test and any other non-parametric\n",
    "test to answer the question."
   ]
  },
  {
   "cell_type": "code",
   "execution_count": 201,
   "metadata": {},
   "outputs": [
    {
     "name": "stdout",
     "output_type": "stream",
     "text": [
      "Experimental probability sign test: 0.45\n",
      "Experimental probability non-parametric test sample std v1_ln 1.6404320085302728\n",
      "Experimental probability non-parametric test sample std v1.5_ln 1.41906878001138\n"
     ]
    }
   ],
   "source": [
    "v1_ln = np.log( np.abs(v1) )\n",
    "v1_5_ln = np.log( np.abs(v1_5) )\n",
    "\n",
    "count = 0\n",
    "\n",
    "for x in range(100):\n",
    "    if abs(v1_ln[x]) < abs(v1_5_ln[x]):\n",
    "        count += 1\n",
    "\n",
    "print('Experimental probability sign test:', count / 100)\n",
    "\n",
    "print('Experimental probability non-parametric test sample std v1_ln', statistics.stdev(v1_ln))\n",
    "print('Experimental probability non-parametric test sample std v1.5_ln', statistics.stdev(v1_5_ln))"
   ]
  },
  {
   "cell_type": "code",
   "execution_count": 202,
   "metadata": {},
   "outputs": [
    {
     "name": "stdout",
     "output_type": "stream",
     "text": [
      "Here, both tests gave us the wrong answer. The sign test had only 45/50 values in vector1 smaller and the std of vector 1 is larger than std vector 2.\n"
     ]
    }
   ],
   "source": [
    "print('Here, both tests gave us the wrong answer. The sign test had only 45/50 values in vector1 smaller and the std of vector 1 is larger than std vector 2.')"
   ]
  },
  {
   "cell_type": "markdown",
   "metadata": {},
   "source": [
    "Generate five more collections of 100 independent normal random variables with mean zero and\n",
    "variance 1. Then generate five more collections of 100 independent normal random variables with\n",
    "mean zero and variance 1.5. Apply procedures B, C, and D to each of the five pairs. How many\n",
    "times did you get wrong answer?\n",
    "Compute the theoretical value of the probabilities that procedures B, C, and D give correct\n",
    "answer."
   ]
  },
  {
   "cell_type": "code",
   "execution_count": 204,
   "metadata": {},
   "outputs": [
    {
     "name": "stdout",
     "output_type": "stream",
     "text": [
      "-------------------------------------------------\n",
      "Pair 1\n",
      "Procedure A Experimental probability: 0.49\n",
      "\n",
      "Procedue B SS v1: 3057.905614793219\n",
      "Procedue B SS v_1.5: 6364.2849787782525\n",
      "\n",
      "Procedue C sample std v1 5.537781012915894\n",
      "Procedue C sample std v1.5 7.796693295343969\n",
      "\n",
      "Procedure D\n",
      "Experimental probability sign test: 0.51\n",
      "Experimental probability non-parametric test sample std v1_ln 1.4828380255140596\n",
      "Experimental probability non-parametric test sample std v1.5_ln 1.3600799748889003\n",
      "-------------------------------------------------\n",
      "Pair 2\n",
      "Procedure A Experimental probability: 0.48\n",
      "\n",
      "Procedue B SS v1: 13291.268777981762\n",
      "Procedue B SS v_1.5: 5458.307509436001\n",
      "\n",
      "Procedue C sample std v1 11.428831237450709\n",
      "Procedue C sample std v1.5 7.318070273584836\n",
      "\n",
      "Procedure D\n",
      "Experimental probability sign test: 0.5\n",
      "Experimental probability non-parametric test sample std v1_ln 1.6779724580204438\n",
      "Experimental probability non-parametric test sample std v1.5_ln 1.7296009586838703\n",
      "-------------------------------------------------\n",
      "Pair 3\n",
      "Procedure A Experimental probability: 0.6\n",
      "\n",
      "Procedue B SS v1: 2525.301793087224\n",
      "Procedue B SS v_1.5: 5766.5768518474815\n",
      "\n",
      "Procedue C sample std v1 5.016007410489193\n",
      "Procedue C sample std v1.5 7.484848608364343\n",
      "\n",
      "Procedure D\n",
      "Experimental probability sign test: 0.43\n",
      "Experimental probability non-parametric test sample std v1_ln 1.5506240897019974\n",
      "Experimental probability non-parametric test sample std v1.5_ln 1.317835163726397\n",
      "-------------------------------------------------\n",
      "Pair 4\n",
      "Procedure A Experimental probability: 0.5\n",
      "\n",
      "Procedue B SS v1: 4537.900727765797\n",
      "Procedue B SS v_1.5: 92684.68493468183\n",
      "\n",
      "Procedue C sample std v1 6.70151267633837\n",
      "Procedue C sample std v1.5 30.448394855128022\n",
      "\n",
      "Procedure D\n",
      "Experimental probability sign test: 0.51\n",
      "Experimental probability non-parametric test sample std v1_ln 1.6213627111274302\n",
      "Experimental probability non-parametric test sample std v1.5_ln 1.8888325234360848\n",
      "-------------------------------------------------\n",
      "Pair 5\n",
      "Procedure A Experimental probability: 0.49\n",
      "\n",
      "Procedue B SS v1: 13786.886923538052\n",
      "Procedue B SS v_1.5: 1027762.4767475245\n",
      "\n",
      "Procedue C sample std v1 11.800417399610653\n",
      "Procedue C sample std v1.5 101.28553180234832\n",
      "\n",
      "Procedure D\n",
      "Experimental probability sign test: 0.5\n",
      "Experimental probability non-parametric test sample std v1_ln 1.5924845772064282\n",
      "Experimental probability non-parametric test sample std v1.5_ln 1.7910425775071017\n",
      "-------------------------------------------------\n"
     ]
    }
   ],
   "source": [
    "print('-------------------------------------------------')\n",
    "\n",
    "for i in range(5):\n",
    "    print('Pair', i + 1)\n",
    "    v1 = np.random.standard_cauchy(100)\n",
    "    v1_5 = stats.cauchy.rvs(loc=0, scale=np.sqrt(1.5), size=100)\n",
    "    \n",
    "    count = 0\n",
    "    for x in range(100):\n",
    "        if abs(v1[x]) < abs(v1_5[x]):\n",
    "            count += 1\n",
    "\n",
    "    print('Procedure A Experimental probability:', count / 100)\n",
    "    print()\n",
    "    \n",
    "    print('Procedue B SS v1:', v1 @ v1.T)\n",
    "    print('Procedue B SS v_1.5:', v1_5 @ v1_5.T)\n",
    "    print()\n",
    "    \n",
    "    print('Procedue C sample std v1', statistics.stdev(v1))\n",
    "    print('Procedue C sample std v1.5', statistics.stdev(v1_5))\n",
    "    \n",
    "    print('\\nProcedure D')\n",
    "    v1_ln = np.log( np.abs(v1) )\n",
    "    v1_5_ln = np.log( np.abs(v1_5) )\n",
    "\n",
    "    count = 0\n",
    "\n",
    "    for x in range(100):\n",
    "        if abs(v1_ln[x]) < abs(v1_5_ln[x]):\n",
    "            count += 1\n",
    "\n",
    "    print('Experimental probability sign test:', count / 100)\n",
    "\n",
    "    print('Experimental probability non-parametric test sample std v1_ln', statistics.stdev(v1_ln))\n",
    "    print('Experimental probability non-parametric test sample std v1.5_ln', statistics.stdev(v1_5_ln))    \n",
    "    print('-------------------------------------------------')"
   ]
  },
  {
   "cell_type": "code",
   "execution_count": 205,
   "metadata": {},
   "outputs": [
    {
     "name": "stdout",
     "output_type": "stream",
     "text": [
      "Procedure a is wrong 3 times\n",
      "Procedure b is wrong 1 time\n",
      "Procedure c is wrong 1 time\n",
      "The sign test in procedure d was wrong for 1 of the pairs.\n",
      "The non-parametric test in procedure d was wrong for 2 of the pairs.\n"
     ]
    }
   ],
   "source": [
    "print('Procedure a is wrong 3 times')\n",
    "print('Procedure b is wrong 1 time')\n",
    "print('Procedure c is wrong 1 time')\n",
    "print('The sign test in procedure d was wrong for 1 of the pairs.')\n",
    "print('The non-parametric test in procedure d was wrong for 2 of the pairs.')"
   ]
  },
  {
   "cell_type": "markdown",
   "metadata": {},
   "source": [
    "Compared to part 1, procudures a - c were wrong more often in part 2. This is likely because cauchy rv can more easily take on larger values, making these procedures more prone to being errenous. Procedure d, however, seemed to be a little more accurate in part 2. This could potentially be because cauchy is less likely to be less than 1 and consequently a very large negative number when the natural log is taken."
   ]
  },
  {
   "cell_type": "code",
   "execution_count": null,
   "metadata": {},
   "outputs": [],
   "source": []
  }
 ],
 "metadata": {
  "kernelspec": {
   "display_name": "Python 3",
   "language": "python",
   "name": "python3"
  },
  "language_info": {
   "codemirror_mode": {
    "name": "ipython",
    "version": 3
   },
   "file_extension": ".py",
   "mimetype": "text/x-python",
   "name": "python",
   "nbconvert_exporter": "python",
   "pygments_lexer": "ipython3",
   "version": "3.7.6"
  }
 },
 "nbformat": 4,
 "nbformat_minor": 4
}
